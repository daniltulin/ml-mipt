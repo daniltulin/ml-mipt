{
 "cells": [
  {
   "cell_type": "code",
   "execution_count": 22,
   "metadata": {
    "collapsed": false
   },
   "outputs": [],
   "source": [
    "from sklearn.datasets import load_digits, load_breast_cancer\n",
    "import numpy as np\n",
    "from sklearn.naive_bayes import BernoulliNB, MultinomialNB, GaussianNB\n",
    "from sklearn.model_selection import cross_val_score"
   ]
  },
  {
   "cell_type": "code",
   "execution_count": 7,
   "metadata": {
    "collapsed": false
   },
   "outputs": [
    {
     "data": {
      "text/plain": [
       "array(['mean radius', 'mean texture', 'mean perimeter', 'mean area',\n",
       "       'mean smoothness', 'mean compactness', 'mean concavity',\n",
       "       'mean concave points', 'mean symmetry', 'mean fractal dimension',\n",
       "       'radius error', 'texture error', 'perimeter error', 'area error',\n",
       "       'smoothness error', 'compactness error', 'concavity error',\n",
       "       'concave points error', 'symmetry error', 'fractal dimension error',\n",
       "       'worst radius', 'worst texture', 'worst perimeter', 'worst area',\n",
       "       'worst smoothness', 'worst compactness', 'worst concavity',\n",
       "       'worst concave points', 'worst symmetry', 'worst fractal dimension'], \n",
       "      dtype='<U23')"
      ]
     },
     "execution_count": 7,
     "metadata": {},
     "output_type": "execute_result"
    }
   ],
   "source": [
    "cancer_bunch = load_breast_cancer()\n",
    "cancer_bunch['feature_names']"
   ]
  },
  {
   "cell_type": "code",
   "execution_count": 18,
   "metadata": {
    "collapsed": false
   },
   "outputs": [
    {
     "data": {
      "text/plain": [
       "array([  1.79900000e+01,   1.03800000e+01,   1.22800000e+02,\n",
       "         1.00100000e+03,   1.18400000e-01,   2.77600000e-01,\n",
       "         3.00100000e-01,   1.47100000e-01,   2.41900000e-01,\n",
       "         7.87100000e-02,   1.09500000e+00,   9.05300000e-01,\n",
       "         8.58900000e+00,   1.53400000e+02,   6.39900000e-03,\n",
       "         4.90400000e-02,   5.37300000e-02,   1.58700000e-02,\n",
       "         3.00300000e-02,   6.19300000e-03,   2.53800000e+01,\n",
       "         1.73300000e+01,   1.84600000e+02,   2.01900000e+03,\n",
       "         1.62200000e-01,   6.65600000e-01,   7.11900000e-01,\n",
       "         2.65400000e-01,   4.60100000e-01,   1.18900000e-01])"
      ]
     },
     "execution_count": 18,
     "metadata": {},
     "output_type": "execute_result"
    }
   ],
   "source": [
    "cancer_data, cancer_target = cancer_bunch['data'], cancer_bunch['target']\n",
    "cancer_data[0]"
   ]
  },
  {
   "cell_type": "code",
   "execution_count": 19,
   "metadata": {
    "collapsed": false
   },
   "outputs": [
    {
     "data": {
      "text/plain": [
       "array([  0.,   0.,   5.,  13.,   9.,   1.,   0.,   0.,   0.,   0.,  13.,\n",
       "        15.,  10.,  15.,   5.,   0.,   0.,   3.,  15.,   2.,   0.,  11.,\n",
       "         8.,   0.,   0.,   4.,  12.,   0.,   0.,   8.,   8.,   0.,   0.,\n",
       "         5.,   8.,   0.,   0.,   9.,   8.,   0.,   0.,   4.,  11.,   0.,\n",
       "         1.,  12.,   7.,   0.,   0.,   2.,  14.,   5.,  10.,  12.,   0.,\n",
       "         0.,   0.,   0.,   6.,  13.,  10.,   0.,   0.,   0.])"
      ]
     },
     "execution_count": 19,
     "metadata": {},
     "output_type": "execute_result"
    }
   ],
   "source": [
    "digits_data, digits_target = load_digits(return_X_y=True)\n",
    "digits_data[0]"
   ]
  },
  {
   "cell_type": "code",
   "execution_count": 43,
   "metadata": {
    "collapsed": false
   },
   "outputs": [
    {
     "name": "stdout",
     "output_type": "stream",
     "text": [
      "cancer B 0.62962962963 0.627420402859\n",
      "cancer M 0.910052910053 0.894579040193\n",
      "cancer G 0.947368421053 0.936749280609\n",
      "digits B 0.837248322148 0.825823650778\n",
      "digits M 0.882059800664 0.870877148974\n",
      "digits G 0.832214765101 0.818600380355\n"
     ]
    }
   ],
   "source": [
    "for i, loader in enumerate([load_breast_cancer, load_digits]):\n",
    "    data, target = loader(return_X_y=True)\n",
    "    for clf in [BernoulliNB, MultinomialNB, GaussianNB]:\n",
    "        accuracy = cross_val_score(clf(), data, target)\n",
    "        print(['cancer', 'digits'][i], str(clf)[28:][0], \n",
    "              accuracy.max(), accuracy.mean())"
   ]
  },
  {
   "cell_type": "markdown",
   "metadata": {},
   "source": [
    "### 1. Каким получилось максимальное качество классификации на датасете breast_cancer?\n",
    "#### 95%"
   ]
  },
  {
   "cell_type": "markdown",
   "metadata": {},
   "source": [
    "### 2. Каким получилось максимальное качество классификации на датасете digits?\n",
    "#### 88%"
   ]
  },
  {
   "cell_type": "markdown",
   "metadata": {},
   "source": [
    "### 3. Какие утверждения из приведенных ниже верны?\n",
    "* (a) На вещественных признаках лучше всего сработал наивный байесовский классификатор с распределением Бернулли\n",
    "* (b) На вещественных признаках лучше всего сработал наивный байесовский классификатор с мультиномиальным распределением\n",
    "* (c) Мультиномиальное распределение лучше показало себя на выборке с целыми неотрицательными значениями признаков\n",
    "* (d) На вещественных признаках лучше всего сработало нормальное распределение\n",
    "\n",
    "### (d) - верно"
   ]
  }
 ],
 "metadata": {
  "kernelspec": {
   "display_name": "Python 3",
   "language": "python",
   "name": "python3"
  },
  "language_info": {
   "codemirror_mode": {
    "name": "ipython",
    "version": 3
   },
   "file_extension": ".py",
   "mimetype": "text/x-python",
   "name": "python",
   "nbconvert_exporter": "python",
   "pygments_lexer": "ipython3",
   "version": "3.5.2"
  }
 },
 "nbformat": 4,
 "nbformat_minor": 1
}
