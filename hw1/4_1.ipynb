{
 "cells": [
  {
   "cell_type": "markdown",
   "metadata": {},
   "source": [
    "$$\\text{Given a class variable y and a dependent feature vector } x_1 \\text{ through } x_n \\text{ , Bayes’ theorem states the following relationship:}$$\n",
    "$$$$\n",
    "$$P(y|x_1, \\dots, x_n) = \\frac{P(y)P(x_1, \\dots, x_n|y)}{P(x_1, \\dots, x_n)}$$\n",
    "$$$$\n",
    "$$\\text{Using the naive independence assumption for all }i \\text{, this relationship is simplified to :}$$\n",
    "$$$$\n",
    "$$P(y|x_1, \\dots, x_n) = \\frac{P(y) \\Pi_{k = 1}^{n} P(x_k|y)}{P(x_1, \\dots, x_n)}$$\n",
    "$$$$\n",
    "$$\\text{Since }P(x_1, \\dots, x_n)\\text{ is constant given the input, we can use the following classification rule:}$$\n",
    "$$$$\n",
    "$$ \\newcommand{\\argmax}{\\arg\\!\\max} y_{predicted} = \\argmax_y P(y) \\Pi_{k = 1}^{n} P(x_k|y)$$"
   ]
  },
  {
   "cell_type": "markdown",
   "metadata": {},
   "source": [
    "$$\\text{The likelihood of the features is assumed to be :}$$\n",
    "$$$$\n",
    "$$P(x_i|y)=\\frac{1}{\\sqrt{2\\pi\\sigma^2_y}} \\exp{\\Big(-\\frac{(x_i-\\mu_y)^2}{2\\sigma^2_y}\\Big)}$$\n",
    "$$$$\n",
    "$$\\text{Когда мы фитим алгоритм, мы подбираем параметры } \\sigma^2_y \\text{ и } \\mu_y\\text{ методом максимального правдоподобия}$$\n",
    "$$\\text{Возьмем производную логарифма функции правдоподобия :}$$\n",
    "$$$$\n",
    "$$(...)^{'} = - \\Sigma_{k = 1}^{n}\\frac{2(\\mu_y - x_k)}{\\sigma^2_y}=0$$\n",
    "$$$$\n",
    "$$\\mu_y=\\frac{\\Sigma x_k}{n}$$\n",
    "$$$$\n",
    "$$\\text{Получим, что классификация сводится к отнесению объекта } x \\text{ к классу  } y \\text{ , центр которого } \\mu_y \\text{ ближе всего к x}$$"
   ]
  }
 ],
 "metadata": {
  "kernelspec": {
   "display_name": "Python 3",
   "language": "python",
   "name": "python3"
  },
  "language_info": {
   "codemirror_mode": {
    "name": "ipython",
    "version": 3
   },
   "file_extension": ".py",
   "mimetype": "text/x-python",
   "name": "python",
   "nbconvert_exporter": "python",
   "pygments_lexer": "ipython3",
   "version": "3.5.2"
  }
 },
 "nbformat": 4,
 "nbformat_minor": 1
}
