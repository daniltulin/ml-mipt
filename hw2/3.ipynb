{
 "cells": [
  {
   "cell_type": "code",
   "execution_count": 1,
   "metadata": {
    "collapsed": true
   },
   "outputs": [],
   "source": [
    "from sklearn.datasets import load_boston\n",
    "boston = load_boston()"
   ]
  },
  {
   "cell_type": "code",
   "execution_count": 2,
   "metadata": {
    "collapsed": false
   },
   "outputs": [],
   "source": [
    "data, target = boston['data'], boston['target']"
   ]
  },
  {
   "cell_type": "code",
   "execution_count": 52,
   "metadata": {
    "collapsed": true
   },
   "outputs": [],
   "source": [
    "from numpy import vectorize, zeros, array, invert, apply_along_axis, array_split\n",
    "from sklearn.metrics import mean_squared_error\n",
    "\n",
    "apply = lambda arr, f: apply_along_axis(f, 1, arr)\n",
    "\n",
    "class Threshold:\n",
    "    def __init__(self, feature, value):\n",
    "        self.feature = feature\n",
    "        self.value = value\n",
    "    \n",
    "    def __call__(self, x):\n",
    "        return x[self.feature] < self.value\n",
    "    \n",
    "    def sift(self, X):\n",
    "        return apply(X, self)\n",
    "\n",
    "class Node:\n",
    "    def __init__(self, left=None, right=None):\n",
    "        self.left = left\n",
    "        self.right = right\n",
    "        self.is_leaf = False\n",
    "\n",
    "def neighbour_means(X, feature):\n",
    "    size, _ = X.shape\n",
    "    means = zeros(10)\n",
    "    column = X.take([feature], 1).ravel()\n",
    "    return [column.mean()]\n",
    "    column.sort()\n",
    "    return [split.mean() for split in array_split(column, 10)]\n",
    "    \n",
    "        \n",
    "def evaluate(Y, partition):\n",
    "    def mse(Y):\n",
    "        mean = Y.mean()\n",
    "        return ((Y - mean) ** 2).mean()\n",
    "    return mse(Y[partition]) + mse(Y[invert(partition)])"
   ]
  },
  {
   "cell_type": "code",
   "execution_count": 53,
   "metadata": {
    "collapsed": false
   },
   "outputs": [],
   "source": [
    "from numpy import ones_like, zeros_like\n",
    "from sklearn.base import BaseEstimator\n",
    "from tqdm import trange\n",
    "\n",
    "class DecisionTree(BaseEstimator):\n",
    "    def __init__(self, max_depth=5):\n",
    "        self.root = None\n",
    "        self.max_depth = max_depth\n",
    "    \n",
    "    def fit(self, X, Y):\n",
    "        self.root = Node()\n",
    "        return self._fit(X, Y, self.root)\n",
    "        \n",
    "    def _fit(self, X, Y, node, depth=0):\n",
    "        def make_leaf():\n",
    "            node.is_leaf = True\n",
    "            node.value = Y.mean()\n",
    "        \n",
    "        size, features_qty = X.shape\n",
    "        \n",
    "        if not depth < self.max_depth or size < 30:\n",
    "            return make_leaf()\n",
    "        \n",
    "        min_error, best_partition = 2 ** 31, None\n",
    "        best_threshold = None\n",
    "        \n",
    "        for feature in range(features_qty):\n",
    "            for value in neighbour_means(X, feature):\n",
    "                threshold = Threshold(feature, value)\n",
    "                partition = threshold.sift(X)\n",
    "                if not partition.any() or partition.all():\n",
    "                    continue\n",
    "                error = evaluate(Y, partition)\n",
    "                if min_error > error:\n",
    "                    min_error = error\n",
    "                    best_partition, best_threshold = partition, threshold\n",
    "        \n",
    "        if min_error == 2 ** 31:\n",
    "            return make_leaf()\n",
    "        \n",
    "        node.threshold = best_threshold\n",
    "        \n",
    "        node.left = Node()\n",
    "        node.right = Node()\n",
    "        \n",
    "        self._fit(X[best_partition], Y[best_partition], node.left, depth + 1)\n",
    "        self._fit(X[invert(best_partition)], Y[invert(best_partition)], node.right, depth + 1)\n",
    "        \n",
    "    def predict(self, X):\n",
    "        def predict_value(x):\n",
    "            node = self.root\n",
    "            while not node.is_leaf:\n",
    "                node = node.left if node.threshold(x) \\\n",
    "                       else node.right\n",
    "            return node.value\n",
    "        return apply(X, predict_value)"
   ]
  },
  {
   "cell_type": "code",
   "execution_count": 61,
   "metadata": {
    "collapsed": false
   },
   "outputs": [
    {
     "data": {
      "text/plain": [
       "43.017995357583906"
      ]
     },
     "execution_count": 61,
     "metadata": {},
     "output_type": "execute_result"
    }
   ],
   "source": [
    "from sklearn.model_selection import cross_val_score\n",
    "model = DecisionTree()\n",
    "-cross_val_score(model, data, target, scoring='neg_mean_squared_error').mean()"
   ]
  },
  {
   "cell_type": "code",
   "execution_count": 63,
   "metadata": {
    "collapsed": false
   },
   "outputs": [
    {
     "data": {
      "text/plain": [
       "46.720606391471769"
      ]
     },
     "execution_count": 63,
     "metadata": {},
     "output_type": "execute_result"
    }
   ],
   "source": [
    "from sklearn.tree import DecisionTreeRegressor\n",
    "model = DecisionTreeRegressor()\n",
    "-cross_val_score(model, data, target, scoring='neg_mean_squared_error').mean()"
   ]
  },
  {
   "cell_type": "code",
   "execution_count": 96,
   "metadata": {
    "collapsed": false
   },
   "outputs": [
    {
     "data": {
      "text/plain": [
       "14.831095784893783"
      ]
     },
     "execution_count": 96,
     "metadata": {},
     "output_type": "execute_result"
    }
   ],
   "source": [
    "from sklearn.model_selection import train_test_split\n",
    "X_train, X_test, Y_train, Y_test = train_test_split(data, target)\n",
    "model = DecisionTree()\n",
    "model.fit(X_train, Y_train)\n",
    "mean_squared_error(model.predict(X_test), Y_test)"
   ]
  },
  {
   "cell_type": "code",
   "execution_count": 83,
   "metadata": {
    "collapsed": false
   },
   "outputs": [
    {
     "data": {
      "text/plain": [
       "22.090472440944879"
      ]
     },
     "execution_count": 83,
     "metadata": {},
     "output_type": "execute_result"
    }
   ],
   "source": [
    "model = DecisionTreeRegressor()\n",
    "model.fit(X_train, Y_train)\n",
    "mean_squared_error(model.predict(X_test), Y_test)"
   ]
  }
 ],
 "metadata": {
  "kernelspec": {
   "display_name": "Python 3",
   "language": "python",
   "name": "python3"
  },
  "language_info": {
   "codemirror_mode": {
    "name": "ipython",
    "version": 3
   },
   "file_extension": ".py",
   "mimetype": "text/x-python",
   "name": "python",
   "nbconvert_exporter": "python",
   "pygments_lexer": "ipython3",
   "version": "3.6.0"
  }
 },
 "nbformat": 4,
 "nbformat_minor": 2
}
